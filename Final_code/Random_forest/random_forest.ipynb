{
 "cells": [
  {
   "cell_type": "markdown",
   "metadata": {},
   "source": [
    "## Random Forest Code for generating a baseline"
   ]
  },
  {
   "cell_type": "code",
   "execution_count": null,
   "metadata": {},
   "outputs": [],
   "source": [
    "from sklearn.ensemble import RandomForestClassifier\n",
    "import pickle\n",
    "import numpy as np"
   ]
  },
  {
   "cell_type": "markdown",
   "metadata": {},
   "source": [
    "### specify file to load data below"
   ]
  },
  {
   "cell_type": "code",
   "execution_count": null,
   "metadata": {},
   "outputs": [],
   "source": [
    "with open('../database/combined_dict_norm_all_examples.pickle','rb') as handle:\n",
    "    combined_dict = pickle.load(handle)\n",
    "with open('../database/train_ind.pickle','rb') as handle:\n",
    "    train_ind = pickle.load(handle)\n",
    "with open('../val_ind.pickle','rb') as handle:\n",
    "    val_ind = pickle.load(handle)\n",
    "with open('../test_ind.pickle','rb') as handle:\n",
    "    test_ind = pickle.load(handle)"
   ]
  },
  {
   "cell_type": "code",
   "execution_count": null,
   "metadata": {},
   "outputs": [],
   "source": [
    "# Reading the data from the dictionary and creating a train variable for random forest\n",
    "X = np.zeros((1,909*40))\n",
    "y = np.zeros((1,50))\n",
    "for i in range(len(train_ind)):\n",
    "    X = np.concatenate((X,combined_dict[keys[i]]['mel_spectrum'][0].flatten().reshape(1,909*40)),axis=0)\n",
    "    y = np.concatenate((y,combined_dict[keys[i]]['output'].reshape(1,50)))\n",
    "    if i%100==0:\n",
    "        print(i)"
   ]
  },
  {
   "cell_type": "code",
   "execution_count": null,
   "metadata": {},
   "outputs": [],
   "source": [
    "# remove the first blank row\n",
    "X = X[1:,:]\n",
    "y = y[1:,:]"
   ]
  },
  {
   "cell_type": "code",
   "execution_count": null,
   "metadata": {},
   "outputs": [],
   "source": [
    "print(X.shape,y.shape)"
   ]
  },
  {
   "cell_type": "code",
   "execution_count": null,
   "metadata": {},
   "outputs": [],
   "source": [
    "clf = RandomForestClassifier(n_estimators=100, max_depth=8,\n",
    "                              random_state=0)\n",
    "clf.fit(X, y)\n"
   ]
  },
  {
   "cell_type": "markdown",
   "metadata": {},
   "source": [
    "### validation set"
   ]
  },
  {
   "cell_type": "code",
   "execution_count": null,
   "metadata": {},
   "outputs": [],
   "source": [
    "y_ = np.zeros((1,50)) # predictions on validation set\n",
    "for i in range(len(val_ind)):\n",
    "    pred = clf.predict(combined_dict[keys[i]]['mel_spectrum'][0].flatten().reshape(1,909*40)) \n",
    "    y_ = np.concatenate((y_,pred),axis=0)\n",
    "y_ = y_[1:,:]\n",
    "with open('random_forest_val_pred.pickle','wb') as handle:\n",
    "    pickle.dump(y_,handle)"
   ]
  },
  {
   "cell_type": "code",
   "execution_count": null,
   "metadata": {},
   "outputs": [],
   "source": [
    "true_labels = np.zeros((1,50))\n",
    "for ind in range(len(val_ind)):\n",
    "    true_labels = np.concatenate((true_labels,combined_dict[keys[ind]]['output'].reshape(1,50)))\n",
    "    if ind%100==0:\n",
    "        print(ind)\n",
    "true_labels = true_labels[1:,:]\n",
    "print(true_labels.shape)"
   ]
  },
  {
   "cell_type": "markdown",
   "metadata": {},
   "source": [
    "### running a AUC test"
   ]
  },
  {
   "cell_type": "code",
   "execution_count": null,
   "metadata": {},
   "outputs": [],
   "source": [
    "auc_roc = metrics.roc_auc_score(true_labels,y_)\n",
    "print(auc_roc)"
   ]
  },
  {
   "cell_type": "markdown",
   "metadata": {},
   "source": [
    "### test set"
   ]
  },
  {
   "cell_type": "code",
   "execution_count": null,
   "metadata": {},
   "outputs": [],
   "source": [
    "y_ = np.zeros((1,50)) # predictions on test set\n",
    "for i in range(len(test_ind)):\n",
    "    pred = clf.predict(combined_dict[keys[i]]['mel_spectrum'][0].flatten().reshape(1,909*40)) \n",
    "    y_ = np.concatenate((y_,pred),axis=0)\n",
    "y_ = y_[1:,:]\n",
    "with open('random_forest_val_pred.pickle','wb') as handle:\n",
    "    pickle.dump(y_,handle)"
   ]
  },
  {
   "cell_type": "code",
   "execution_count": null,
   "metadata": {},
   "outputs": [],
   "source": [
    "true_labels = np.zeros((1,50))\n",
    "for ind in range(len(test_ind)):\n",
    "    true_labels = np.concatenate((true_labels,combined_dict[keys[ind]]['output'].reshape(1,50)))\n",
    "    if ind%100==0:\n",
    "        print(ind)\n",
    "true_labels = true_labels[1:,:]\n",
    "print(true_labels.shape)"
   ]
  },
  {
   "cell_type": "code",
   "execution_count": null,
   "metadata": {},
   "outputs": [],
   "source": [
    "auc_roc = metrics.roc_auc_score(true_labels,y_)\n",
    "print(auc_roc)"
   ]
  }
 ],
 "metadata": {
  "kernelspec": {
   "display_name": "Python 3",
   "language": "python",
   "name": "python3"
  },
  "language_info": {
   "codemirror_mode": {
    "name": "ipython",
    "version": 3
   },
   "file_extension": ".py",
   "mimetype": "text/x-python",
   "name": "python",
   "nbconvert_exporter": "python",
   "pygments_lexer": "ipython3",
   "version": "3.6.3"
  }
 },
 "nbformat": 4,
 "nbformat_minor": 2
}
